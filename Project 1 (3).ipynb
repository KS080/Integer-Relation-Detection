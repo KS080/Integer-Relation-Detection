{
 "cells": [
  {
   "cell_type": "markdown",
   "metadata": {
    "collapsed": false
   },
   "source": [
   ]
  },
  {
   "cell_type": "code",
   "execution_count": 0,
   "metadata": {
    "collapsed": false
   },
   "outputs": [
   ],
   "source": [
    "# Question 1\n",
    "\n",
    "# Importing mp (multiprecision arithmetic) and pslq (Partial Sum of Least Squares) from mpmath library\n",
    "from mpmath import mp, pslq\n",
    "\n",
    "mp.dps = 30  # Setting decimal precision to 30 digits\n",
    "\n",
    "# Task 1: Finding a relation between π/4, arctan(1/7), and arctan(3/79)\n",
    "\n",
    "# Assigning values to variables\n",
    "pi_value = mp.pi  \n",
    "atan1_7 = mp.atan(mp.mpf('1/7'))  # arctan(1/7) with high precision\n",
    "atan3_79 = mp.atan(mp.mpf('3/79'))  # arctan(3/79) with high precision\n",
    "\n",
    "# Using the PSLQ algorithm to find an integer relation among π/4, arctan(1/7), and arctan(3/79)\n",
    "relation1 = pslq([pi_value/4, atan1_7, atan3_79], tol=1e-10)\n",
    "\n",
    "# Printing the found relation for Task 1\n",
    "print(\"Relation 1:\", relation1)\n",
    "\n",
    "# Task 2: Finding a relation involving π/4, arctan(1/8), arctan(1/57), and arctan(1/239)\n",
    "\n",
    "# Calculate arctan values with high precision\n",
    "atan1_8 = mp.atan(mp.mpf('1/8'))  # arctan(1/8)\n",
    "atan1_57 = mp.atan(mp.mpf('1/57'))  # arctan(1/57)\n",
    "atan1_239 = mp.atan(mp.mpf('1/239'))  # arctan(1/239)\n",
    "\n",
    "# Using the PSLQ algorithm again to find an integer relation among π/4, arctan(1/8), arctan(1/57), and arctan(1/239)\n",
    "relation2 = pslq([pi_value/4, atan1_8, atan1_57, atan1_239], tol=1e-10)  # This relation is according to π/4\n",
    "\n",
    "# Using the PSLQ algorithm again to find an integer relation among π, arctan(1/8), arctan(1/57), and arctan(1/239)\n",
    "relation3 = pslq([pi_value, atan1_8, atan1_57, atan1_239], tol=1e-10)  # This relation is according to π as mentioned in question1\n",
    "\n",
    "# Printing the found relation for Task 2\n",
    "print(\"Relation 2:\", relation2)\n",
    "print(\"Relation 3:\", relation3)"
   ]
  },
  {
   "cell_type": "code",
   "execution_count": 18,
   "metadata": {
    "collapsed": false
   },
   "outputs": [
    {
     "name": "stdout",
     "output_type": "stream",
     "text": [
      "Starting with z = 0.800000000000000, the sequence does not diverge.\n",
      "Starting with z = 0.900000000000000, the sequence diverges.\n"
     ]
    }
   ],
   "source": [
    "# Question 2\n",
    "\n",
    "def f(z, c=0.1-0.1*I):\n",
    "    # Defines a complex function of the form f(z) = z^2 + c, where z and c are complex numbers.\n",
    "    return z^2 + c\n",
    "\n",
    "# Function to test divergence of the sequence for a given initial z\n",
    "def test_divergence(z_initial, c=0.1-0.1*I, max_iter=100, cutoff=2):\n",
    "    # Tests whether the sequence defined by repeatedly applying f(z) diverges, starting from z_initial.\n",
    "    z = z_initial  # Initialize z to the starting value\n",
    "    for i in range(max_iter):  # Iterate up to max_iter times\n",
    "        z = f(z, c)  \n",
    "        if abs(z) > cutoff:  \n",
    "            return True  \n",
    "    return False  # If the loop completes without divergence, the sequence does not diverge.\n",
    "\n",
    "# Test the sequence for z = 0.8 and z = 0.9\n",
    "z_values = [0.8, 0.9]  \n",
    "results = {}  # Dictionary to store the results\n",
    "\n",
    "for z in z_values:  # Iterate over each initial z value\n",
    "    diverges = test_divergence(z)  # Test for divergence starting from z\n",
    "    # Record the result as a string (\"diverges\" or \"does not diverge\") in the results dictionary\n",
    "    results[z] = \"diverges\" if diverges else \"does not diverge\"\n",
    "\n",
    "\n",
    "for z, outcome in results.items():\n",
    "    # Print whether the sequence starting from each initial z value diverges or not\n",
    "    print(f\"Starting with z = {z}, the sequence {outcome}.\")\n"
   ]
  },
  {
   "cell_type": "code",
   "execution_count": 15,
   "metadata": {
    "collapsed": false
   },
   "outputs": [
    {
     "name": "stdout",
     "output_type": "stream",
     "text": [
      "Boundary: 0.88050\n",
      "Boundary: 0.880499740596861\n",
      "Time taken: 0.004842000000000013 seconds\n"
     ]
    }
   ],
   "source": [
    "# Question 3\n",
    "\n",
    "def f(z, c=0.1-0.1*I):\n",
    "    return z^2 + c\n",
    "\n",
    "# Function to test if the sequence diverges for a given initial complex number z.\n",
    "def does_diverge(z_initial, c=0.1-0.1*I, max_iter=100, cutoff=2):\n",
    "    z = z_initial  \n",
    "    for _ in range(max_iter):  # Iterate up to max_iter times to check for divergence.\n",
    "        z = f(z, c) \n",
    "        if abs(z) > cutoff:  # If the magnitude of z exceeds the cutoff, the sequence diverges.\n",
    "            return True\n",
    "    return False  # If the loop completes without exceeding the cutoff, the sequence does not diverge.\n",
    "\n",
    "# Binary search algorithm to find the boundary with high precision.\n",
    "def find_boundary(low, high, c=0.1-0.1*I, precision=1e-10, max_iter=100):\n",
    "    while high - low > precision:  \n",
    "        mid = (low + high) / 2  # Calculate the midpoint of the current interval.\n",
    "        if does_diverge(mid, c, max_iter):  # If the sequence starting from mid diverges,\n",
    "            high = mid  # adjust the high bound to mid.\n",
    "        else:\n",
    "            low = mid  # Otherwise, adjust the low bound to mid.\n",
    "    return mid  # Return the midpoint.\n",
    "\n",
    "start_time = cputime()  # Record the start time of the operation.\n",
    "\n",
    "# Initial bounds for the binary search.\n",
    "low = 0.8\n",
    "high = 0.9\n",
    "\n",
    "# Execute the binary search to find the boundary with specified precision.\n",
    "boundary = find_boundary(low, high, precision=1e-10)\n",
    "\n",
    "elapsed_time = cputime(start_time)  # Calculate the elapsed time.\n",
    "print(\"Boundary:\", boundary.n(digits=5))  # Print the boundary with 5 significant digits.\n",
    "print(\"Boundary:\", boundary)  # Print the boundary with full precision.\n",
    "print(\"Time taken:\", elapsed_time, \"seconds\")  # Print the time taken for the operation.\n",
    "\n",
    "# Save the calculated boundary to an external file for later use or analysis.\n",
    "save(boundary, 'boundary.sobj')\n"
   ]
  },
  {
   "cell_type": "code",
   "execution_count": 0,
   "metadata": {
    "collapsed": false
   },
   "outputs": [
   ],
   "source": [
   ]
  }
 ],
 "metadata": {
  "kernelspec": {
   "argv": [
    "sage-10.2",
    "--python",
    "-m",
    "sage.repl.ipython_kernel",
    "--matplotlib=inline",
    "-f",
    "{connection_file}"
   ],
   "display_name": "SageMath 10.2",
   "env": {
   },
   "language": "sagemath",
   "metadata": {
    "cocalc": {
     "description": "Open-source mathematical software system",
     "priority": 2,
     "url": "https://www.sagemath.org/"
    }
   },
   "name": "sage-10.2",
   "resource_dir": "/ext/jupyter/kernels/sage-10.2"
  }
 },
 "nbformat": 4,
 "nbformat_minor": 4
}